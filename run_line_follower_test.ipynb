{
 "cells": [
  {
   "cell_type": "code",
   "execution_count": 1,
   "metadata": {
    "collapsed": true
   },
   "outputs": [],
   "source": [
    "%matplotlib inline\n",
    "import matplotlib.pyplot as plt\n",
    "import numpy as np\n",
    "import time\n",
    "plt.rcParams['font.size'] = 14\n",
    "#import pylab_util as PU\n",
    "import os"
   ]
  },
  {
   "cell_type": "code",
   "execution_count": 2,
   "metadata": {
    "collapsed": false
   },
   "outputs": [],
   "source": [
    "def data_to_float_array(data):\n",
    "    mylist = data.split('\\n')\n",
    "    clean_list = mylist#[3:]\n",
    "    clean_2 = list(filter(None,clean_list))\n",
    "    \n",
    "    start_ind = None\n",
    "    \n",
    "    for i, row in enumerate(clean_2):\n",
    "        if row.find(\"1,\") == 0:\n",
    "            start_ind = i\n",
    "    \n",
    "    end_ind = None\n",
    "    \n",
    "    for i, row in enumerate(clean_2):\n",
    "        if row.find(\"input\") > -1:\n",
    "            end_ind = i\n",
    "            \n",
    "    clean_3 = clean_2[start_ind:end_ind]\n",
    "    nested_list = [row.split(',') for row in clean_3]\n",
    "    str_array = np.array(nested_list)\n",
    "    float_array = str_array.astype(float)\n",
    "    return float_array\n",
    "    #return str_array"
   ]
  },
  {
   "cell_type": "code",
   "execution_count": 3,
   "metadata": {
    "collapsed": true
   },
   "outputs": [],
   "source": [
    "import control\n",
    "#import digcomp"
   ]
  },
  {
   "cell_type": "code",
   "execution_count": 4,
   "metadata": {
    "collapsed": true
   },
   "outputs": [],
   "source": [
    "import serial\n",
    "import serial_utils"
   ]
  },
  {
   "cell_type": "code",
   "execution_count": 5,
   "metadata": {
    "collapsed": true
   },
   "outputs": [],
   "source": [
    "import importlib"
   ]
  },
  {
   "cell_type": "code",
   "execution_count": 57,
   "metadata": {
    "collapsed": false
   },
   "outputs": [
    {
     "data": {
      "text/plain": [
       "<module 'serial_utils' from '/home/pi/SBR_git/serial_utils.py'>"
      ]
     },
     "execution_count": 57,
     "metadata": {},
     "output_type": "execute_result"
    }
   ],
   "source": [
    "importlib.reload(serial_utils)"
   ]
  },
  {
   "cell_type": "code",
   "execution_count": 58,
   "metadata": {
    "collapsed": true
   },
   "outputs": [],
   "source": [
    "import platform"
   ]
  },
  {
   "cell_type": "code",
   "execution_count": 59,
   "metadata": {
    "collapsed": false
   },
   "outputs": [
    {
     "data": {
      "text/plain": [
       "'linux-4.9.41-v7+-armv7l-with-debian-9.1'"
      ]
     },
     "execution_count": 59,
     "metadata": {},
     "output_type": "execute_result"
    }
   ],
   "source": [
    "plat_str = platform.platform().lower()\n",
    "plat_str"
   ]
  },
  {
   "cell_type": "code",
   "execution_count": 60,
   "metadata": {
    "collapsed": false
   },
   "outputs": [
    {
     "name": "stdout",
     "output_type": "stream",
     "text": [
      "myos: linux\n"
     ]
    }
   ],
   "source": [
    "myos = 'win'\n",
    "\n",
    "if 'linux' in plat_str:\n",
    "    myos = 'linux'\n",
    "elif 'darwin' in plat_str:\n",
    "    myos = 'mac'\n",
    "\n",
    "print('myos: %s' % myos)"
   ]
  },
  {
   "cell_type": "code",
   "execution_count": 61,
   "metadata": {
    "collapsed": false
   },
   "outputs": [
    {
     "name": "stdout",
     "output_type": "stream",
     "text": [
      "portname: /dev/ttyACM1\n"
     ]
    }
   ],
   "source": [
    "if myos == 'linux':\n",
    "    portname = serial_utils.find_portname_RPi()\n",
    "elif myos == 'mac':\n",
    "    #portname = '/dev/tty.usbmodem1421'\n",
    "    portname = '/dev/cu.usbmodem1421'\n",
    "else:\n",
    "    portname = 'COM3'\n",
    "    \n",
    "print('portname: %s' % portname)"
   ]
  },
  {
   "cell_type": "code",
   "execution_count": 62,
   "metadata": {
    "collapsed": false
   },
   "outputs": [],
   "source": [
    "ser = serial_utils.serial_test(portname)"
   ]
  },
  {
   "cell_type": "code",
   "execution_count": 63,
   "metadata": {
    "collapsed": false
   },
   "outputs": [],
   "source": [
    "ser.open()"
   ]
  },
  {
   "cell_type": "code",
   "execution_count": 65,
   "metadata": {
    "collapsed": false
   },
   "outputs": [
    {
     "name": "stdout",
     "output_type": "stream",
     "text": [
      "motor testing v. 1.0.0\n",
      "input test case\r\n",
      "\n",
      "\n"
     ]
    }
   ],
   "source": [
    "ser.print_all()"
   ]
  },
  {
   "cell_type": "code",
   "execution_count": 66,
   "metadata": {
    "collapsed": false
   },
   "outputs": [],
   "source": [
    "ser.flush()"
   ]
  },
  {
   "cell_type": "code",
   "execution_count": 67,
   "metadata": {
    "collapsed": true
   },
   "outputs": [],
   "source": [
    "ser.write_char(\"c\")"
   ]
  },
  {
   "cell_type": "code",
   "execution_count": 68,
   "metadata": {
    "collapsed": false
   },
   "outputs": [
    {
     "name": "stdout",
     "output_type": "stream",
     "text": [
      "getting ready to calibrate\r\n",
      "calibration results:\r\n",
      "128 212 88 168 88 124 \r\n",
      "2500 2500 2500 2500 2500 2500 \r\n",
      "\r\n",
      "input test case\r\n",
      "\n",
      "\n"
     ]
    }
   ],
   "source": [
    "ser.print_all()"
   ]
  },
  {
   "cell_type": "code",
   "execution_count": 69,
   "metadata": {
    "collapsed": false
   },
   "outputs": [
    {
     "name": "stdout",
     "output_type": "stream",
     "text": [
      "\n"
     ]
    }
   ],
   "source": [
    "ser.print_all()"
   ]
  },
  {
   "cell_type": "code",
   "execution_count": 78,
   "metadata": {
    "collapsed": false
   },
   "outputs": [],
   "source": [
    "time.sleep(2)\n",
    "ser.write_char(\"1\")\n",
    "time.sleep(0.1)\n",
    "data = ser.get_data()"
   ]
  },
  {
   "cell_type": "code",
   "execution_count": 79,
   "metadata": {
    "collapsed": false
   },
   "outputs": [],
   "source": [
    "data_array = data_to_float_array(data)"
   ]
  },
  {
   "cell_type": "code",
   "execution_count": 89,
   "metadata": {
    "collapsed": true
   },
   "outputs": [],
   "source": [
    "t_ms = data_array[:,1]\n",
    "des_pos = data_array[:,2]\n",
    "e = data_array[:,3]\n",
    "diff = data_array[:,4]\n",
    "pos = data_array[:,-1]\n",
    "t = t_ms/1000"
   ]
  }
 ],
 "metadata": {
  "kernelspec": {
   "display_name": "Python 3",
   "language": "python",
   "name": "python3"
  },
  "language_info": {
   "codemirror_mode": {
    "name": "ipython",
    "version": 3
   },
   "file_extension": ".py",
   "mimetype": "text/x-python",
   "name": "python",
   "nbconvert_exporter": "python",
   "pygments_lexer": "ipython3",
   "version": "3.5.3"
  }
 },
 "nbformat": 4,
 "nbformat_minor": 0
}
